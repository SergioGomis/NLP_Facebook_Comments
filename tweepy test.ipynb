{
 "cells": [
  {
   "cell_type": "code",
   "execution_count": 1,
   "metadata": {},
   "outputs": [],
   "source": [
    "import tweepy\n",
    "import os\n",
    "import dotenv\n",
    "dotenv.load_dotenv();"
   ]
  },
  {
   "cell_type": "code",
   "execution_count": 2,
   "metadata": {},
   "outputs": [],
   "source": [
    "consumer_key = os.getenv(\"CONKEY\")\n",
    "consumer_secret = os.getenv(\"COSEKE\")\n",
    "access_token = os.getenv(\"ACCTOK\")\n",
    "access_token_secret = os.getenv(\"ACTOSE\")"
   ]
  },
  {
   "cell_type": "code",
   "execution_count": 8,
   "metadata": {},
   "outputs": [
    {
     "name": "stdout",
     "output_type": "stream",
     "text": [
      "RT @frnperea: 😂😂😂\n",
      "\n",
      "Lo lee 1, se convierten 7...\n",
      "Lego es la empresa con mejor reputación del año según el Global Reptrak 100 que realiza @Reputation_Inst. #RepTrak https://t.co/8Qzt0lnb9d\n",
      "How many times have you blown your nose into a tissue and accidentally gotten boogies on your fingers? Don’t even try tucking a few loose ones in your pocket. \n",
      "\n",
      "Handkerchiefs are more durable, versatile, and sustainable.\n",
      " https://t.co/KUTFMfTHyR\n",
      "The future is meow https://t.co/VhI2vyZvne\n",
      "La Cámara de Comercio de España crea una Comisión de Movilidad para fomentar la movilidad urbana sostenible. @camarascomercio https://t.co/yIOsLGtYEX\n",
      "https://t.co/jlR1qemCtq\n",
      "All astronauts aboard the International Space Station must be conversant in Russian. Reaching fluency can take over 1,000 hours and some astronauts have said it is the hardest part of their training.\n",
      "Aunque podría debatirse sobre cuáles formas de comunicación son dignas de calificarse como «lenguajes» en el mismo sentido que le damos a los nuestros, seguimos desentrañando la variedad de sistemas de comunicación usados por otros seres vivientes. https://t.co/HVzr4WBZxA\n",
      "Italia endurece las medidas frente al coronavirus: diez millones de estudiantes no pueden asistir a clase tras el cierre de los centros https://t.co/tPi4j4GI17\n",
      "Cayetana Álvarez de Toledo y Peralta-Ramos XIII marquesa de Casa Fuerte.\n",
      "\n",
      "Tanto apellido y tan poca educación. 🤦‍♀️ https://t.co/JU6clSW0To\n",
      "@lwtuaznar Sin Azúcar se ha quedado sin compa de entreno.\n",
      "Cancelada la carrera de MotoGP en Qatar, aplazada la de Tailandia a octubre y ante la amenaza del coronavirus Carmelo Ezpeleta asume que el Mundial de 2020 no será ordinario. Pero se compromete a completarlo. El mínimo son 13 GPs. Por @nadiatronchoni https://t.co/eqrsWMF04h\n",
      "RT @atorrem: Cada vez que @jesusmarana abre la boca dice algo sensato. #ARV\n",
      "RT @edugalan: Vaya dos\n",
      "Los nietos de un dictador acudiendo al Tribunal Europeo de Derechos Humanos. SOMOS UN CIRCO DE TRES PISTAS. https://t.co/S76iG9HB4t\n",
      "RT @ttguweiz: 🌆 https://t.co/zdMn3MQafz\n",
      "\"Juan Carlos I recibió 100 M del rey Abdulá días después de 'blanquear' el régimen saudí\". Si esto no es para plantearse si este señor no debería ir a un juzgado... https://t.co/WBp6y8fOyF\n",
      "@Arezno Y pensar que se hacía 200 burpees como si nada.\n",
      "RT @UNICEFCyL: ¿Quieres demostrarle a tu papá que es único? ¿Te gustaría hacerle un regalo especial y celebrar el #DíadelPadre ? ¿Un regalo…\n",
      "🔫Hideo Kojima: \"En Estados Unidos están muy acostumbrados a los shooter\"\n",
      "👀Cree que tendrán que pasar unos años para que #DeathStranding sea reevaluado\n",
      "\n",
      "https://t.co/38qKhEXRYb\n"
     ]
    }
   ],
   "source": [
    "\n",
    "auth = tweepy.OAuthHandler(consumer_key, consumer_secret)\n",
    "auth.set_access_token(access_token, access_token_secret)\n",
    "\n",
    "api = tweepy.API(auth)\n",
    "\n",
    "public_tweets = api.home_timeline(tweet_mode=\"extended\")\n",
    "for tweet in public_tweets:\n",
    "    print(tweet.full_text)"
   ]
  },
  {
   "cell_type": "code",
   "execution_count": null,
   "metadata": {},
   "outputs": [],
   "source": []
  },
  {
   "cell_type": "code",
   "execution_count": 4,
   "metadata": {},
   "outputs": [],
   "source": [
    "# Get the User object for twitter...\n",
    "user = api.get_user('twitter')"
   ]
  },
  {
   "cell_type": "code",
   "execution_count": 5,
   "metadata": {},
   "outputs": [
    {
     "name": "stdout",
     "output_type": "stream",
     "text": [
      "Twitter\n",
      "57363195\n",
      "TwitterRetweets\n"
     ]
    }
   ],
   "source": [
    "print(user.screen_name)\n",
    "print(user.followers_count)\n",
    "for friend in user.friends():\n",
    "    print(friend.screen_name)"
   ]
  },
  {
   "cell_type": "code",
   "execution_count": 10,
   "metadata": {},
   "outputs": [],
   "source": [
    "\n",
    "from textblob import TextBlob "
   ]
  },
  {
   "cell_type": "code",
   "execution_count": null,
   "metadata": {},
   "outputs": [],
   "source": []
  }
 ],
 "metadata": {
  "kernelspec": {
   "display_name": "Python 3",
   "language": "python",
   "name": "python3"
  },
  "language_info": {
   "codemirror_mode": {
    "name": "ipython",
    "version": 3
   },
   "file_extension": ".py",
   "mimetype": "text/x-python",
   "name": "python",
   "nbconvert_exporter": "python",
   "pygments_lexer": "ipython3",
   "version": "3.7.6"
  }
 },
 "nbformat": 4,
 "nbformat_minor": 4
}
