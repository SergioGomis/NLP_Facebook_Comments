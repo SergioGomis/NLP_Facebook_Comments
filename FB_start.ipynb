{
 "cells": [
  {
   "cell_type": "code",
   "execution_count": 19,
   "metadata": {},
   "outputs": [],
   "source": [
    "import facebook\n",
    "import requests\n",
    "import os\n",
    "import dotenv\n",
    "dotenv.load_dotenv();"
   ]
  },
  {
   "cell_type": "markdown",
   "metadata": {},
   "source": [
    "### Con requests"
   ]
  },
  {
   "cell_type": "code",
   "execution_count": 20,
   "metadata": {},
   "outputs": [],
   "source": [
    "API_TOKEN = os.getenv(\"API_TOKEN\")"
   ]
  },
  {
   "cell_type": "code",
   "execution_count": 21,
   "metadata": {},
   "outputs": [],
   "source": [
    "URL=f\"https://graph.facebook.com/101775421443554_101776044776825/comments?access_token={API_TOKEN}\""
   ]
  },
  {
   "cell_type": "code",
   "execution_count": 6,
   "metadata": {},
   "outputs": [],
   "source": [
    "\n",
    "\n",
    "x = requests.get(URL)"
   ]
  },
  {
   "cell_type": "code",
   "execution_count": 8,
   "metadata": {},
   "outputs": [
    {
     "data": {
      "text/plain": [
       "'{\"data\":[{\"created_time\":\"2020-03-04T20:52:48+0000\",\"from\":{\"name\":\"Fictional Games Co.\",\"id\":\"101775421443554\"},\"message\":\"Genial, muy bien\",\"id\":\"101776044776825_101776294776800\"}],\"paging\":{\"cursors\":{\"before\":\"MQZDZD\",\"after\":\"MQZDZD\"}}}'"
      ]
     },
     "execution_count": 8,
     "metadata": {},
     "output_type": "execute_result"
    }
   ],
   "source": [
    "x.text"
   ]
  },
  {
   "cell_type": "code",
   "execution_count": null,
   "metadata": {},
   "outputs": [],
   "source": []
  },
  {
   "cell_type": "markdown",
   "metadata": {},
   "source": [
    "### Usando librería Facebook"
   ]
  },
  {
   "cell_type": "code",
   "execution_count": 10,
   "metadata": {},
   "outputs": [],
   "source": [
    "graph = facebook.GraphAPI(access_token=API_TOKEN, version=\"3.1\")"
   ]
  },
  {
   "cell_type": "code",
   "execution_count": 12,
   "metadata": {},
   "outputs": [
    {
     "name": "stdout",
     "output_type": "stream",
     "text": [
      "{'data': [{'created_time': '2020-03-04T20:52:48+0000', 'from': {'name': 'Fictional Games Co.', 'id': '101775421443554'}, 'message': 'Genial, muy bien', 'id': '101776044776825_101776294776800'}, {'created_time': '2020-03-05T10:06:49+0000', 'from': {'name': 'Fictional Games Co.', 'id': '101775421443554'}, 'message': 'Otra respuesta', 'id': '101776044776825_102230798064683'}], 'paging': {'cursors': {'before': 'MgZDZD', 'after': 'MQZDZD'}}}\n"
     ]
    }
   ],
   "source": [
    "post = graph.get_object(id='101775421443554_101776044776825', fields='comments')\n",
    "print(post['comments'])"
   ]
  },
  {
   "cell_type": "code",
   "execution_count": null,
   "metadata": {},
   "outputs": [],
   "source": []
  }
 ],
 "metadata": {
  "kernelspec": {
   "display_name": "Python 3",
   "language": "python",
   "name": "python3"
  },
  "language_info": {
   "codemirror_mode": {
    "name": "ipython",
    "version": 3
   },
   "file_extension": ".py",
   "mimetype": "text/x-python",
   "name": "python",
   "nbconvert_exporter": "python",
   "pygments_lexer": "ipython3",
   "version": "3.7.6"
  }
 },
 "nbformat": 4,
 "nbformat_minor": 4
}
