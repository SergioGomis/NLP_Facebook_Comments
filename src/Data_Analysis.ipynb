{
 "cells": [
  {
   "cell_type": "markdown",
   "metadata": {},
   "source": [
    "## Data Clean"
   ]
  },
  {
   "cell_type": "code",
   "execution_count": 14,
   "metadata": {},
   "outputs": [],
   "source": [
    "import pandas as pd\n",
    "from database import MongoObject"
   ]
  },
  {
   "cell_type": "code",
   "execution_count": 15,
   "metadata": {},
   "outputs": [],
   "source": [
    "\n",
    "db = MongoObject()"
   ]
  },
  {
   "cell_type": "code",
   "execution_count": 16,
   "metadata": {},
   "outputs": [],
   "source": [
    "data = db.getTweetsCV('es')\n"
   ]
  },
  {
   "cell_type": "code",
   "execution_count": 17,
   "metadata": {},
   "outputs": [],
   "source": [
    "data_dic = list(data)"
   ]
  },
  {
   "cell_type": "code",
   "execution_count": 18,
   "metadata": {},
   "outputs": [],
   "source": [
    "data_df = pd.DataFrame(data_dic)"
   ]
  },
  {
   "cell_type": "code",
   "execution_count": 19,
   "metadata": {},
   "outputs": [
    {
     "name": "stdout",
     "output_type": "stream",
     "text": [
      "<class 'pandas.core.frame.DataFrame'>\n",
      "RangeIndex: 2439 entries, 0 to 2438\n",
      "Data columns (total 4 columns):\n",
      " #   Column      Non-Null Count  Dtype \n",
      "---  ------      --------------  ----- \n",
      " 0   created_at  2439 non-null   object\n",
      " 1   id          2439 non-null   int64 \n",
      " 2   full_text   2439 non-null   object\n",
      " 3   user        2439 non-null   object\n",
      "dtypes: int64(1), object(3)\n",
      "memory usage: 76.3+ KB\n"
     ]
    }
   ],
   "source": [
    "data_df.info()"
   ]
  },
  {
   "cell_type": "code",
   "execution_count": 20,
   "metadata": {},
   "outputs": [
    {
     "data": {
      "text/plain": [
       "0    {'screen_name': 'genesiszavala_'}\n",
       "1    {'screen_name': 'RadioCuervoUru'}\n",
       "2           {'screen_name': 'javszgz'}\n",
       "3      {'screen_name': 'pachecocarl5'}\n",
       "4         {'screen_name': 'patilesme'}\n",
       "Name: user, dtype: object"
      ]
     },
     "execution_count": 20,
     "metadata": {},
     "output_type": "execute_result"
    }
   ],
   "source": [
    "data_df.user.head()"
   ]
  },
  {
   "cell_type": "code",
   "execution_count": 21,
   "metadata": {},
   "outputs": [],
   "source": [
    "data_df['user_clean'] = data_df['user'].apply(lambda t: dict(t)['screen_name'])"
   ]
  },
  {
   "cell_type": "code",
   "execution_count": 22,
   "metadata": {},
   "outputs": [],
   "source": [
    "data_df['text_len'] = data_df['full_text'].apply(lambda t: len(t))"
   ]
  },
  {
   "cell_type": "code",
   "execution_count": 23,
   "metadata": {},
   "outputs": [],
   "source": [
    "data_df['fecha'] =  pd.to_datetime(data_df['created_at'], format='%a %b %d %H:%M:%S %z %Y')"
   ]
  },
  {
   "cell_type": "code",
   "execution_count": 24,
   "metadata": {},
   "outputs": [],
   "source": [
    "data_df.drop(columns=['user','created_at'],inplace=True)\n",
    "data_df.rename({'user_clean':'user'},inplace=True)"
   ]
  },
  {
   "cell_type": "code",
   "execution_count": 25,
   "metadata": {},
   "outputs": [
    {
     "data": {
      "text/html": [
       "<div>\n",
       "<style scoped>\n",
       "    .dataframe tbody tr th:only-of-type {\n",
       "        vertical-align: middle;\n",
       "    }\n",
       "\n",
       "    .dataframe tbody tr th {\n",
       "        vertical-align: top;\n",
       "    }\n",
       "\n",
       "    .dataframe thead th {\n",
       "        text-align: right;\n",
       "    }\n",
       "</style>\n",
       "<table border=\"1\" class=\"dataframe\">\n",
       "  <thead>\n",
       "    <tr style=\"text-align: right;\">\n",
       "      <th></th>\n",
       "      <th>id</th>\n",
       "      <th>full_text</th>\n",
       "      <th>user_clean</th>\n",
       "      <th>text_len</th>\n",
       "      <th>fecha</th>\n",
       "    </tr>\n",
       "  </thead>\n",
       "  <tbody>\n",
       "    <tr>\n",
       "      <th>0</th>\n",
       "      <td>1236725611122569217</td>\n",
       "      <td>RT @Salud_Ec: 🕙COMUNICADO || #COVID19 🇪🇨#Activ...</td>\n",
       "      <td>genesiszavala_</td>\n",
       "      <td>140</td>\n",
       "      <td>2020-03-08 18:48:57+00:00</td>\n",
       "    </tr>\n",
       "    <tr>\n",
       "      <th>1</th>\n",
       "      <td>1236725602591350788</td>\n",
       "      <td>ANDA BRAVA \"LA GRIPE\"...\\nMás de 100 víctimas ...</td>\n",
       "      <td>RadioCuervoUru</td>\n",
       "      <td>269</td>\n",
       "      <td>2020-03-08 18:48:55+00:00</td>\n",
       "    </tr>\n",
       "    <tr>\n",
       "      <th>2</th>\n",
       "      <td>1236725594869678081</td>\n",
       "      <td>RT @GuajeSalvaje: Hace poquito Lorenzo Milá de...</td>\n",
       "      <td>javszgz</td>\n",
       "      <td>139</td>\n",
       "      <td>2020-03-08 18:48:53+00:00</td>\n",
       "    </tr>\n",
       "    <tr>\n",
       "      <th>3</th>\n",
       "      <td>1236725590868271105</td>\n",
       "      <td>RT @maya_jaramillo: Colombia: país donde le ti...</td>\n",
       "      <td>pachecocarl5</td>\n",
       "      <td>139</td>\n",
       "      <td>2020-03-08 18:48:52+00:00</td>\n",
       "    </tr>\n",
       "    <tr>\n",
       "      <th>4</th>\n",
       "      <td>1236725589219905537</td>\n",
       "      <td>RT @DoctorMime: A ver, abro hilo sobre COVID-1...</td>\n",
       "      <td>patilesme</td>\n",
       "      <td>139</td>\n",
       "      <td>2020-03-08 18:48:52+00:00</td>\n",
       "    </tr>\n",
       "  </tbody>\n",
       "</table>\n",
       "</div>"
      ],
      "text/plain": [
       "                    id                                          full_text  \\\n",
       "0  1236725611122569217  RT @Salud_Ec: 🕙COMUNICADO || #COVID19 🇪🇨#Activ...   \n",
       "1  1236725602591350788  ANDA BRAVA \"LA GRIPE\"...\\nMás de 100 víctimas ...   \n",
       "2  1236725594869678081  RT @GuajeSalvaje: Hace poquito Lorenzo Milá de...   \n",
       "3  1236725590868271105  RT @maya_jaramillo: Colombia: país donde le ti...   \n",
       "4  1236725589219905537  RT @DoctorMime: A ver, abro hilo sobre COVID-1...   \n",
       "\n",
       "       user_clean  text_len                     fecha  \n",
       "0  genesiszavala_       140 2020-03-08 18:48:57+00:00  \n",
       "1  RadioCuervoUru       269 2020-03-08 18:48:55+00:00  \n",
       "2         javszgz       139 2020-03-08 18:48:53+00:00  \n",
       "3    pachecocarl5       139 2020-03-08 18:48:52+00:00  \n",
       "4       patilesme       139 2020-03-08 18:48:52+00:00  "
      ]
     },
     "execution_count": 25,
     "metadata": {},
     "output_type": "execute_result"
    }
   ],
   "source": [
    "data_df.head()"
   ]
  },
  {
   "cell_type": "markdown",
   "metadata": {},
   "source": [
    "## Data Model"
   ]
  },
  {
   "cell_type": "code",
   "execution_count": 62,
   "metadata": {},
   "outputs": [],
   "source": [
    "import spacy\n",
    "from spacy import displacy\n",
    "from pathlib import Path\n",
    "import os"
   ]
  },
  {
   "cell_type": "code",
   "execution_count": 28,
   "metadata": {},
   "outputs": [],
   "source": [
    "nlp = spacy.load('es_core_news_sm')"
   ]
  },
  {
   "cell_type": "code",
   "execution_count": 29,
   "metadata": {},
   "outputs": [],
   "source": [
    "all_texts = data_df['full_text'].head(30).str.cat(sep=' ')"
   ]
  },
  {
   "cell_type": "code",
   "execution_count": 30,
   "metadata": {},
   "outputs": [
    {
     "data": {
      "text/plain": [
       "4836"
      ]
     },
     "execution_count": 30,
     "metadata": {},
     "output_type": "execute_result"
    }
   ],
   "source": [
    "len(all_texts)"
   ]
  },
  {
   "cell_type": "code",
   "execution_count": 31,
   "metadata": {},
   "outputs": [],
   "source": [
    "doc = nlp(all_texts)"
   ]
  },
  {
   "cell_type": "code",
   "execution_count": 43,
   "metadata": {},
   "outputs": [],
   "source": [
    "#doc.to_json()"
   ]
  },
  {
   "cell_type": "code",
   "execution_count": null,
   "metadata": {},
   "outputs": [],
   "source": [
    "for token in doc:\n",
    "    # Print the text and the predicted part-of-speech tag\n",
    "    print(token.text, token.pos_)"
   ]
  },
  {
   "cell_type": "code",
   "execution_count": null,
   "metadata": {},
   "outputs": [],
   "source": [
    "# https://t.co/HDiA1AicP4 PROPN\n",
    "# @maya_jaramillo PROPN\n",
    "# # PROPN"
   ]
  },
  {
   "cell_type": "code",
   "execution_count": null,
   "metadata": {},
   "outputs": [],
   "source": [
    "for token in doc:\n",
    "    # Get the token text, part-of-speech tag and dependency label\n",
    "    token_text = token.text\n",
    "    token_pos = token.pos_\n",
    "    token_dep = token.dep_\n",
    "    # This is for formatting only\n",
    "    print(\"{:<12}{:<10}{:<10}\".format(token_text, token_pos, token_dep))"
   ]
  },
  {
   "cell_type": "code",
   "execution_count": 65,
   "metadata": {},
   "outputs": [
    {
     "data": {
      "text/plain": [
       "3036"
      ]
     },
     "execution_count": 65,
     "metadata": {},
     "output_type": "execute_result"
    }
   ],
   "source": [
    "#doc = nlp(data_df.full_text.head(1)[0])\n",
    "doc = nlp('Introduce aquí una frase')\n",
    "svg = displacy.render(doc, style=\"dep\", jupyter=False)\n",
    "output_path = Path(os.path.join(\"./\", \"sentence.svg\"))\n",
    "output_path.open('w', encoding=\"utf-8\").write(svg)\n"
   ]
  },
  {
   "cell_type": "code",
   "execution_count": null,
   "metadata": {},
   "outputs": [],
   "source": []
  }
 ],
 "metadata": {
  "kernelspec": {
   "display_name": "Python 3",
   "language": "python",
   "name": "python3"
  },
  "language_info": {
   "codemirror_mode": {
    "name": "ipython",
    "version": 3
   },
   "file_extension": ".py",
   "mimetype": "text/x-python",
   "name": "python",
   "nbconvert_exporter": "python",
   "pygments_lexer": "ipython3",
   "version": "3.7.6"
  }
 },
 "nbformat": 4,
 "nbformat_minor": 4
}
