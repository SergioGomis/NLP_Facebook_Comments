{
 "cells": [
  {
   "cell_type": "markdown",
   "metadata": {},
   "source": [
    "## Inicio"
   ]
  },
  {
   "cell_type": "code",
   "execution_count": 1,
   "metadata": {},
   "outputs": [],
   "source": [
    "import tweepy\n",
    "import os\n",
    "import dotenv\n",
    "import time\n",
    "from database import MongoObject\n",
    "dotenv.load_dotenv();"
   ]
  },
  {
   "cell_type": "code",
   "execution_count": 2,
   "metadata": {},
   "outputs": [],
   "source": [
    "db = MongoObject()"
   ]
  },
  {
   "cell_type": "code",
   "execution_count": 3,
   "metadata": {},
   "outputs": [],
   "source": [
    "consumer_key = os.getenv(\"CONKEY\")\n",
    "consumer_secret = os.getenv(\"COSEKE\")\n",
    "access_token = os.getenv(\"ACCTOK\")\n",
    "access_token_secret = os.getenv(\"ACTOSE\")\n",
    "\n",
    "\n",
    "auth = tweepy.OAuthHandler(consumer_key, consumer_secret)\n",
    "auth.set_access_token(access_token, access_token_secret)\n",
    "\n",
    "api = tweepy.API(auth)"
   ]
  },
  {
   "cell_type": "markdown",
   "metadata": {},
   "source": [
    "## 'We are hiring'"
   ]
  },
  {
   "cell_type": "code",
   "execution_count": null,
   "metadata": {},
   "outputs": [],
   "source": [
    "i=0\n",
    "search_results = api.search('we are hiring', max_id=1234758119173038079, tweet_mode=\"extended\")\n",
    "while len(search_results)>0:\n",
    "    for tweet in search_results:\n",
    "        t = tweet._json\n",
    "        res = db.addTweet(t)\n",
    "        i += 1\n",
    "    time.sleep(1.0)\n",
    "    print(f'tweets_added: {i}')\n",
    "    last_id=t['id']\n",
    "    search_results = api.search('we are hiring', max_id=last_id-1, tweet_mode=\"extended\")\n",
    "print('End of search')"
   ]
  },
  {
   "cell_type": "markdown",
   "metadata": {},
   "source": [
    "## 'Proptech'"
   ]
  },
  {
   "cell_type": "code",
   "execution_count": null,
   "metadata": {},
   "outputs": [],
   "source": [
    "i=0\n",
    "search_results = api.search('proptech', tweet_mode=\"extended\")\n",
    "while len(search_results)>0:\n",
    "    for tweet in search_results:\n",
    "        t = tweet._json\n",
    "        res = db.addTweetPT(t)\n",
    "        i += 1\n",
    "        time.sleep(0.2)\n",
    "    print(f'tweets_added: {i}')\n",
    "    last_id=t['id']\n",
    "    search_results = api.search('proptech', max_id=last_id-1, tweet_mode=\"extended\")\n",
    "print('End of search')"
   ]
  },
  {
   "cell_type": "markdown",
   "metadata": {},
   "source": [
    "## 'CoVid-19'"
   ]
  },
  {
   "cell_type": "code",
   "execution_count": null,
   "metadata": {},
   "outputs": [],
   "source": [
    "i=0\n",
    "search_results = api.search('covid-19', tweet_mode=\"extended\")\n",
    "while len(search_results)>0:\n",
    "    for tweet in search_results:\n",
    "        t = tweet._json\n",
    "        res = db.addTweetCV(t)\n",
    "        i += 1\n",
    "        time.sleep(0.2)\n",
    "    print(f'tweets_added: {i}')\n",
    "    last_id=t['id']\n",
    "    search_results = api.search('covid-19', max_id=last_id-1, tweet_mode=\"extended\")\n",
    "print('End of search')"
   ]
  },
  {
   "cell_type": "code",
   "execution_count": null,
   "metadata": {},
   "outputs": [],
   "source": []
  },
  {
   "cell_type": "code",
   "execution_count": null,
   "metadata": {},
   "outputs": [],
   "source": []
  },
  {
   "cell_type": "raw",
   "metadata": {},
   "source": [
    "\n",
    "auth = tweepy.OAuthHandler(consumer_key, consumer_secret)\n",
    "auth.set_access_token(access_token, access_token_secret)\n",
    "\n",
    "api = tweepy.API(auth)\n",
    "\n",
    "public_tweets = api.search('we are hiring', tweet_mode=\"extended\")\n",
    "for tweet in public_tweets[0:3]:\n",
    "    print(tweet._json)"
   ]
  },
  {
   "cell_type": "markdown",
   "metadata": {},
   "source": [
    "len(public_tweets)"
   ]
  },
  {
   "cell_type": "raw",
   "metadata": {},
   "source": [
    "public_tweets[14]._json"
   ]
  },
  {
   "cell_type": "code",
   "execution_count": null,
   "metadata": {},
   "outputs": [],
   "source": [
    "# last id\n",
    "#'id': 1236251413203697666"
   ]
  },
  {
   "cell_type": "raw",
   "metadata": {},
   "source": [
    "public_tweets = api.search('we are hiring', max_id=1236251413203697666, tweet_mode=\"extended\")\n",
    "for tweet in public_tweets[0:3]:\n",
    "    print(tweet._json)"
   ]
  },
  {
   "cell_type": "code",
   "execution_count": 11,
   "metadata": {},
   "outputs": [
    {
     "data": {
      "text/plain": [
       "15"
      ]
     },
     "execution_count": 11,
     "metadata": {},
     "output_type": "execute_result"
    }
   ],
   "source": [
    "len(public_tweets)"
   ]
  },
  {
   "cell_type": "code",
   "execution_count": 7,
   "metadata": {},
   "outputs": [
    {
     "name": "stdout",
     "output_type": "stream",
     "text": [
      "<pymongo.results.InsertOneResult object at 0x110dcb5a0>\n"
     ]
    }
   ],
   "source": [
    "t = public_tweets[0]._json\n",
    "res = db.addTweet(t)\n",
    "print(res)"
   ]
  },
  {
   "cell_type": "code",
   "execution_count": null,
   "metadata": {},
   "outputs": [],
   "source": []
  },
  {
   "cell_type": "code",
   "execution_count": null,
   "metadata": {},
   "outputs": [],
   "source": []
  },
  {
   "cell_type": "code",
   "execution_count": null,
   "metadata": {},
   "outputs": [],
   "source": []
  },
  {
   "cell_type": "code",
   "execution_count": null,
   "metadata": {},
   "outputs": [],
   "source": []
  }
 ],
 "metadata": {
  "kernelspec": {
   "display_name": "Python 3",
   "language": "python",
   "name": "python3"
  }
 },
 "nbformat": 4,
 "nbformat_minor": 4
}
